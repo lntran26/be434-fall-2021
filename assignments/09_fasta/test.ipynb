{
 "cells": [
  {
   "cell_type": "code",
   "execution_count": 2,
   "metadata": {},
   "outputs": [],
   "source": [
    "import argparse\n",
    "import os\n",
    "from Bio import SeqIO\n",
    "\n",
    "# --------------------------------------------------\n",
    "def get_args():\n",
    "    \"\"\"Get command-line arguments\"\"\"\n",
    "\n",
    "    parser = argparse.ArgumentParser(\n",
    "        description='Split interleaved/paired reads',\n",
    "        formatter_class=argparse.ArgumentDefaultsHelpFormatter)\n",
    "\n",
    "    parser.add_argument('files',\n",
    "                        metavar='FILE',\n",
    "                        nargs='+',\n",
    "                        help='Input file(s)',\n",
    "                        type=argparse.FileType('rt'))\n",
    "\n",
    "    parser.add_argument('-o',\n",
    "                        '--outdir',\n",
    "                        help='Output directory',\n",
    "                        metavar='DIR',\n",
    "                        type=str,\n",
    "                        default='split')\n",
    "\n",
    "    return parser.parse_args()\n"
   ]
  },
  {
   "cell_type": "code",
   "execution_count": 3,
   "metadata": {},
   "outputs": [
    {
     "data": {
      "text/plain": [
       "<_io.TextIOWrapper name='inputs/reads1.fa' mode='r' encoding='UTF-8'>"
      ]
     },
     "execution_count": 3,
     "metadata": {},
     "output_type": "execute_result"
    }
   ],
   "source": [
    "file_name = 'inputs/reads1.fa'\n",
    "fh = open(file_name)\n",
    "fh"
   ]
  },
  {
   "cell_type": "code",
   "execution_count": 4,
   "metadata": {},
   "outputs": [
    {
     "data": {
      "text/plain": [
       "'inputs/reads1.fa'"
      ]
     },
     "execution_count": 4,
     "metadata": {},
     "output_type": "execute_result"
    }
   ],
   "source": [
    "fh.name"
   ]
  },
  {
   "cell_type": "code",
   "execution_count": null,
   "metadata": {},
   "outputs": [],
   "source": [
    "def main():\n",
    "    \"\"\"Make a jazz noise here\"\"\"\n",
    "\n",
    "    args = get_args()\n",
    "\n",
    "    # writing output file\n",
    "    basename = os.path.basename(args.files[0])\n",
    "    root, ext = os.path.splitext(basename)\n",
    "    outdir = os.path.join(args.outdir, root + f'_{1}' + ext)\n",
    "\n",
    "    for fh in args.files:\n",
    "        seq_data = SeqIO.parse(fh, 'fasta')\n",
    "        for i, rec in enumerate(seq_data):\n",
    "            if i % 2 == 0:\n",
    "                SeqIO.write(rec.seq)\n",
    "            else:\n",
    "                #write to file 2\n",
    "                SeqIO.write(rec.seq)\n",
    "\n",
    "\n",
    "    print(f'Done, see output in \"{args.outdir}\"')\n",
    "\n"
   ]
  },
  {
   "cell_type": "code",
   "execution_count": null,
   "metadata": {},
   "outputs": [],
   "source": [
    "\n",
    "# --------------------------------------------------\n",
    "if __name__ == '__main__':\n",
    "    main()"
   ]
  },
  {
   "cell_type": "code",
   "execution_count": 7,
   "metadata": {},
   "outputs": [
    {
     "data": {
      "text/plain": [
       "False"
      ]
     },
     "execution_count": 7,
     "metadata": {},
     "output_type": "execute_result"
    }
   ],
   "source": [
    "a = not True\n",
    "a"
   ]
  },
  {
   "cell_type": "code",
   "execution_count": 11,
   "metadata": {},
   "outputs": [],
   "source": [
    "output = {'_1':[], '_2':[]}"
   ]
  },
  {
   "cell_type": "code",
   "execution_count": 12,
   "metadata": {},
   "outputs": [
    {
     "ename": "TypeError",
     "evalue": "append() takes exactly one argument (2 given)",
     "output_type": "error",
     "traceback": [
      "\u001b[0;31m---------------------------------------------------------------------------\u001b[0m",
      "\u001b[0;31mTypeError\u001b[0m                                 Traceback (most recent call last)",
      "\u001b[0;32m/var/folders/b2/nr0l2b9929z48f57sghfsflc0000gn/T/ipykernel_59641/3632528417.py\u001b[0m in \u001b[0;36m<module>\u001b[0;34m\u001b[0m\n\u001b[0;32m----> 1\u001b[0;31m \u001b[0moutput\u001b[0m\u001b[0;34m[\u001b[0m\u001b[0;34m'_1'\u001b[0m\u001b[0;34m]\u001b[0m\u001b[0;34m.\u001b[0m\u001b[0mappend\u001b[0m\u001b[0;34m(\u001b[0m\u001b[0;34m'abc'\u001b[0m\u001b[0;34m,\u001b[0m \u001b[0;34m'a'\u001b[0m\u001b[0;34m)\u001b[0m\u001b[0;34m\u001b[0m\u001b[0;34m\u001b[0m\u001b[0m\n\u001b[0m\u001b[1;32m      2\u001b[0m \u001b[0moutput\u001b[0m\u001b[0;34m\u001b[0m\u001b[0;34m\u001b[0m\u001b[0m\n",
      "\u001b[0;31mTypeError\u001b[0m: append() takes exactly one argument (2 given)"
     ]
    }
   ],
   "source": [
    "output['_1'].append('abc', 'a')\n",
    "output"
   ]
  },
  {
   "cell_type": "code",
   "execution_count": 13,
   "metadata": {},
   "outputs": [],
   "source": [
    "seq_data = SeqIO.parse(fh, 'fasta')"
   ]
  },
  {
   "cell_type": "code",
   "execution_count": 14,
   "metadata": {},
   "outputs": [
    {
     "name": "stdout",
     "output_type": "stream",
     "text": [
      "<class 'str'>\n",
      "<class 'str'>\n",
      "<class 'str'>\n",
      "<class 'str'>\n"
     ]
    }
   ],
   "source": [
    "for rec in seq_data:\n",
    "    print(type(rec.description))"
   ]
  }
 ],
 "metadata": {
  "interpreter": {
   "hash": "858cefacf0c5efe6fb099a66ddc33cd6b0e596bd331a46c92819ceda9cfe8c14"
  },
  "kernelspec": {
   "display_name": "Python 3.8.10 64-bit (conda)",
   "name": "python3"
  },
  "language_info": {
   "codemirror_mode": {
    "name": "ipython",
    "version": 3
   },
   "file_extension": ".py",
   "mimetype": "text/x-python",
   "name": "python",
   "nbconvert_exporter": "python",
   "pygments_lexer": "ipython3",
   "version": "3.8.10"
  },
  "orig_nbformat": 4
 },
 "nbformat": 4,
 "nbformat_minor": 2
}
